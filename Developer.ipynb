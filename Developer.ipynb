{
 "cells": [
  {
   "cell_type": "code",
   "execution_count": 76,
   "metadata": {},
   "outputs": [],
   "source": [
    "from tkinter import *\n",
    "from tkinter import ttk, messagebox\n",
    "from PIL import Image, ImageTk\n",
    "import mysql.connector\n",
    "import cv2"
   ]
  },
  {
   "cell_type": "code",
   "execution_count": 77,
   "metadata": {},
   "outputs": [],
   "source": [
    "class DeveloperSystem:\n",
    "    def __init__(self, root):\n",
    "        self.root = root\n",
    "        self.root.geometry('1370x790+0+0')\n",
    "        self.root.title('Face Reconigation System')\n",
    "        \n",
    "        # Putting title\n",
    "        title_lbl = Label(self.root,text='DEVELOPER DASHBORD',font=('times new roman',40,'bold'),bg='white',fg='blue')\n",
    "        title_lbl.place(x=0, y=0, width=1370, height=45)\n",
    "        \n",
    "        \n",
    "        # Image add in Top\n",
    "        img_top =Image.open('img/dev.jpg') \n",
    "        img_top = img_top.resize((1370,640), Image.ANTIALIAS)\n",
    "        self.photoimg_top = ImageTk.PhotoImage(img_top)\n",
    "        \n",
    "        f_lbl = Label(self.root, image = self.photoimg_top)        \n",
    "        f_lbl.place(x=0,y=55,width=1370, height=640)\n",
    "        \n",
    "        # Create Frame\n",
    "        main_frame = Frame(f_lbl, bd=2,bg='white')\n",
    "        main_frame.place(x=900,y=0, width=435, height=550)\n",
    "        \n",
    "        # Add our Image\n",
    "        img1 =Image.open('img/aryan.jpg') \n",
    "        img1 = img1.resize((200,200), Image.ANTIALIAS)\n",
    "        self.photoimg1 = ImageTk.PhotoImage(img1)\n",
    "        \n",
    "        f_lbl = Label(main_frame, image = self.photoimg1)        \n",
    "        f_lbl.place(x=280,y=0,width=150, height=200)\n",
    "        \n",
    "        # Developer Info\n",
    "        Dev_label = Label(main_frame, text='Hello My Name is Aryan Abhi',font=('times new roman',15,'bold'), bg='white')\n",
    "        Dev_label.place(x=0, y=5)\n",
    "        \n",
    "        Dev_label = Label(main_frame, text='I am Data-Scientist',font=('times new roman',15,'bold'), bg='white')\n",
    "        Dev_label.place(x=0, y=30)\n",
    "        \n",
    "        # Add Second Image\n",
    "        img2 =Image.open('img/ijkl.jpeg') \n",
    "        img2 = img2.resize((450,300), Image.ANTIALIAS)\n",
    "        self.photoimg2 = ImageTk.PhotoImage(img2)\n",
    "        \n",
    "        f_lbl = Label(main_frame, image = self.photoimg2)        \n",
    "        f_lbl.place(x=0,y=200,width=450, height=300)"
   ]
  },
  {
   "cell_type": "code",
   "execution_count": 78,
   "metadata": {},
   "outputs": [],
   "source": [
    "if __name__=='__main__':\n",
    "    root=Tk()\n",
    "    obj = DeveloperSystem(root)\n",
    "    root.mainloop()"
   ]
  },
  {
   "cell_type": "code",
   "execution_count": null,
   "metadata": {},
   "outputs": [],
   "source": []
  }
 ],
 "metadata": {
  "kernelspec": {
   "display_name": "Python 3",
   "language": "python",
   "name": "python3"
  },
  "language_info": {
   "codemirror_mode": {
    "name": "ipython",
    "version": 3
   },
   "file_extension": ".py",
   "mimetype": "text/x-python",
   "name": "python",
   "nbconvert_exporter": "python",
   "pygments_lexer": "ipython3",
   "version": "3.8.5"
  }
 },
 "nbformat": 4,
 "nbformat_minor": 4
}
