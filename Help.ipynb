{
 "cells": [
  {
   "cell_type": "code",
   "execution_count": 1,
   "metadata": {},
   "outputs": [],
   "source": [
    "from tkinter import *\n",
    "from tkinter import ttk, messagebox\n",
    "from PIL import Image, ImageTk\n",
    "import mysql.connector\n",
    "import cv2"
   ]
  },
  {
   "cell_type": "code",
   "execution_count": 12,
   "metadata": {},
   "outputs": [],
   "source": [
    "class HelpSystem:\n",
    "    def __init__(self, root):\n",
    "        self.root = root\n",
    "        self.root.geometry('1370x790+0+0')\n",
    "        self.root.title('Face Reconigation System')\n",
    "        \n",
    "        # Putting title\n",
    "        title_lbl = Label(self.root,text='HELP DESK',font=('times new roman',40,'bold'),bg='white',fg='blue')\n",
    "        title_lbl.place(x=0, y=0, width=1370, height=45)\n",
    "        \n",
    "        \n",
    "        # Image add in Top\n",
    "        img_top =Image.open('img/ijkl.jpeg') \n",
    "        img_top = img_top.resize((1370,640), Image.ANTIALIAS)\n",
    "        self.photoimg_top = ImageTk.PhotoImage(img_top)\n",
    "        \n",
    "        f_lbl = Label(self.root, image = self.photoimg_top)        \n",
    "        f_lbl.place(x=0,y=55,width=1370, height=640) \n",
    "        \n",
    "        Email_label = Label(f_lbl,width=40, text='aryanabhi07.2011@gmail.com',font=('times new roman',15,'bold'), bg='white')\n",
    "        Email_label.place(x=420, y=180)"
   ]
  },
  {
   "cell_type": "code",
   "execution_count": 13,
   "metadata": {},
   "outputs": [],
   "source": [
    "if __name__=='__main__':\n",
    "    root=Tk()\n",
    "    obj = HelpSystem(root)\n",
    "    root.mainloop()"
   ]
  },
  {
   "cell_type": "code",
   "execution_count": null,
   "metadata": {},
   "outputs": [],
   "source": []
  },
  {
   "cell_type": "code",
   "execution_count": null,
   "metadata": {},
   "outputs": [],
   "source": []
  }
 ],
 "metadata": {
  "kernelspec": {
   "display_name": "Python 3",
   "language": "python",
   "name": "python3"
  },
  "language_info": {
   "codemirror_mode": {
    "name": "ipython",
    "version": 3
   },
   "file_extension": ".py",
   "mimetype": "text/x-python",
   "name": "python",
   "nbconvert_exporter": "python",
   "pygments_lexer": "ipython3",
   "version": "3.8.5"
  }
 },
 "nbformat": 4,
 "nbformat_minor": 4
}
