{
 "cells": [
  {
   "cell_type": "code",
   "execution_count": 1,
   "metadata": {},
   "outputs": [],
   "source": [
    "import numpy as np\n",
    "from tkinter import *\n",
    "from tkinter import ttk, messagebox\n",
    "from PIL import Image, ImageTk\n",
    "import os\n",
    "import cv2"
   ]
  },
  {
   "cell_type": "code",
   "execution_count": 4,
   "metadata": {},
   "outputs": [],
   "source": [
    "class Train:\n",
    "    def __init__(self, root):\n",
    "        self.root = root\n",
    "        self.root.geometry('1370x790+0+0')\n",
    "        self.root.title('Face Reconigation System')\n",
    "        \n",
    "        # Putting title\n",
    "        title_lbl = Label(self.root,text='TRAINING DATASETS',font=('times new roman',20,'bold'),bg='white',fg='red')\n",
    "        title_lbl.place(x=0, y=0, width=1370, height=45)\n",
    "        \n",
    "        \n",
    "        # Image add in Top\n",
    "        img_top =Image.open('img/facialrecognition.png') \n",
    "        img_top = img_top.resize((1370,300), Image.ANTIALIAS)\n",
    "        self.photoimg_top = ImageTk.PhotoImage(img_top)\n",
    "        \n",
    "        f_lbl = Label(self.root, image = self.photoimg_top)        \n",
    "        f_lbl.place(x=0,y=55,width=1370, height=300)\n",
    "        \n",
    "        # buttom\n",
    "        b1_1= Button(self.root,text='TRAIN DATA',command=self.train_classifier,cursor='hand2',font=('times new roman',30,'bold'),bg='red',fg='white')\n",
    "        b1_1.place(x=0, y=350, width=1370, height=60)\n",
    "        \n",
    "        # Image add in Bottom\n",
    "        img_bottom =Image.open('img/together.jpg') \n",
    "        img_bottom = img_bottom.resize((1370,300), Image.ANTIALIAS)\n",
    "        self.photoimg_bottom = ImageTk.PhotoImage(img_bottom)\n",
    "        \n",
    "        f_lbl = Label(self.root, image = self.photoimg_bottom)        \n",
    "        f_lbl.place(x=0,y=410,width=1370, height=320)\n",
    "        \n",
    "    def train_classifier(self):\n",
    "        data_dir=(\"data\")\n",
    "        path=[os.path.join(data_dir,file) for file in os.listdir(data_dir)]\n",
    "         \n",
    "        Faces=[]\n",
    "        ids=[]\n",
    "        for image in path:\n",
    "            img=Image.open(image).convert('L')  # Gray scale image\n",
    "            imageNp=np.array(img,'uint8')\n",
    "            id=int(os.path.split(image)[1].split('.')[1])\n",
    "        \n",
    "            Faces.append(imageNp)\n",
    "            ids.append(id)\n",
    "            cv2.imshow('Training', imageNp)\n",
    "            cv2.waitKey(1)==13\n",
    "        ids=np.array(ids)\n",
    "\n",
    "        ########### Train classifier###########\n",
    "        clf=cv2.face.LBPHFaceRecognizer_create()\n",
    "        clf.train(Faces,ids)\n",
    "        clf.write(\"classifier.xml\")\n",
    "        cv2.destroyAllWindows()\n",
    "        messagebox.showinfo(\"Result\",\"Training of dataset completed\")\n",
    "        \n",
    "        "
   ]
  },
  {
   "cell_type": "code",
   "execution_count": 5,
   "metadata": {},
   "outputs": [],
   "source": [
    "if __name__=='__main__':\n",
    "    root=Tk()\n",
    "    obj = Train(root)\n",
    "    root.mainloop()"
   ]
  },
  {
   "cell_type": "code",
   "execution_count": null,
   "metadata": {},
   "outputs": [],
   "source": []
  }
 ],
 "metadata": {
  "kernelspec": {
   "display_name": "Python 3",
   "language": "python",
   "name": "python3"
  },
  "language_info": {
   "codemirror_mode": {
    "name": "ipython",
    "version": 3
   },
   "file_extension": ".py",
   "mimetype": "text/x-python",
   "name": "python",
   "nbconvert_exporter": "python",
   "pygments_lexer": "ipython3",
   "version": "3.8.5"
  }
 },
 "nbformat": 4,
 "nbformat_minor": 4
}
